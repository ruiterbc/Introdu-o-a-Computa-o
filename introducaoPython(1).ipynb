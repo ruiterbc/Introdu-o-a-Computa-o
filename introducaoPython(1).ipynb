{
 "cells": [
  {
   "cell_type": "markdown",
   "metadata": {
    "collapsed": false
   },
   "source": [
    "### Conceito de Varíavel em Python"
   ]
  },
  {
   "cell_type": "markdown",
   "metadata": {
    "collapsed": false
   },
   "source": [
    "#### Variável é um local na memória para armazenamento de informação.\n",
    "\n",
    "Variáveis são pequenos espaços de memória, utilizados para armazenar e manipular dados. Em\n",
    "Python, os tipos de dados básicos são: tipo inteiro (armazena números inteiros), tipo float (armazena\n",
    "números em formato decimal), e tipo string (armazena um conjunto de caracteres). \n",
    "Cada variável pode armazenar apenas um tipo de dado a cada instante.\n",
    "Em Python não é preciso declarar de que tipo será cada variável no início do programa. Quando se faz uma atribuição de valor, automaticamente a variável se torna do tipo do valor armazenado.\n",
    "Para acessar o conteúdo armazenado em uma variável é suficiente digitar o nome:"
   ]
  },
  {
   "cell_type": "code",
   "execution_count": 24,
   "metadata": {
    "collapsed": false
   },
   "outputs": [
    {
     "data": {
      "text/plain": [
       "95"
      ]
     },
     "execution_count": 24,
     "metadata": {
     },
     "output_type": "execute_result"
    }
   ],
   "source": [
    "t1 = \"Teste\"\n",
    "t2 = 45\n",
    "t3 = t2 + 50\n",
    "t3\n"
   ]
  },
  {
   "cell_type": "code",
   "execution_count": 26,
   "metadata": {
    "collapsed": false
   },
   "outputs": [
    {
     "name": "stdout",
     "output_type": "stream",
     "text": [
      "Teste 140\n"
     ]
    }
   ],
   "source": [
    "print(t1,t2+t3)"
   ]
  },
  {
   "cell_type": "markdown",
   "metadata": {
    "collapsed": false
   },
   "source": [
    "### Entrada e Saída de dados em Python:"
   ]
  },
  {
   "cell_type": "markdown",
   "metadata": {
    "collapsed": false
   },
   "source": [
    "A atribuição de valor para uma variável pode ser feita utilizando o comando **input()**, que\n",
    "solicita ao usuário o valor a ser atribuído à variável. Como parâmetro o comando input aceita uma mensagem que será exibida para o usuário."
   ]
  },
  {
   "cell_type": "code",
   "execution_count": 30,
   "metadata": {
    "cocalc": {
     "outputs": {
      "0": {
       "name": "input",
       "opts": {
        "password": false,
        "prompt": "Digite o seu nome:"
       },
       "output_type": "stream",
       "value": "ruiter"
      }
     }
    },
    "collapsed": false
   },
   "outputs": [
    {
     "name": "stdout",
     "output_type": "stream",
     "text": "Digite o seu nome: ruiter"
    },
    {
     "name": "stdout",
     "output_type": "stream",
     "text": [
      "o seu nome eh: ruiter\n"
     ]
    }
   ],
   "source": [
    "nome = input(\"Digite o seu nome:\")\n",
    "print(\"o seu nome  eh: \", nome) "
   ]
  },
  {
   "cell_type": "code",
   "execution_count": 1,
   "metadata": {
    "cocalc": {
     "outputs": {
      "0": {
       "name": "input",
       "opts": {
        "password": false,
        "prompt": ""
       },
       "output_type": "stream",
       "value": "teste"
      }
     }
    },
    "collapsed": false
   },
   "outputs": [
    {
     "name": "stdout",
     "output_type": "stream",
     "text": " teste"
    },
    {
     "data": {
      "text/plain": [
       "'teste'"
      ]
     },
     "execution_count": 1,
     "metadata": {
     },
     "output_type": "execute_result"
    }
   ],
   "source": [
    "input()"
   ]
  },
  {
   "cell_type": "code",
   "execution_count": 4,
   "metadata": {
    "collapsed": false
   },
   "outputs": [
    {
     "name": "stdout",
     "output_type": "stream",
     "text": [
      "Ruiter\n"
     ]
    }
   ],
   "source": [
    "print(nome)"
   ]
  },
  {
   "cell_type": "markdown",
   "metadata": {
    "collapsed": false
   },
   "source": [
    "O comando **input()**, sempre vai retornar uma string. Nesse caso, para retornar dados do tipo\n",
    "inteiro ou float, é preciso converter o tipo do valor lido. Para isso, utiliza-se o **int** (string) para\n",
    "converter para o tipo inteiro, ou **float** (string) para converter para o tipo float:"
   ]
  },
  {
   "cell_type": "code",
   "execution_count": 31,
   "metadata": {
    "cocalc": {
     "outputs": {
      "0": {
       "name": "input",
       "opts": {
        "password": false,
        "prompt": "digite sua idade"
       },
       "output_type": "stream",
       "value": "17"
      }
     }
    },
    "collapsed": false
   },
   "outputs": [
    {
     "name": "stdout",
     "output_type": "stream",
     "text": "digite sua idade 17"
    },
    {
     "name": "stdout",
     "output_type": "stream",
     "text": [
      "17\n",
      "27\n"
     ]
    }
   ],
   "source": [
    "idade = int(input(\"digite sua idade\"))\n",
    "print(idade)\n",
    "print(idade + 10)"
   ]
  },
  {
   "cell_type": "code",
   "execution_count": 32,
   "metadata": {
    "cocalc": {
     "outputs": {
      "0": {
       "name": "input",
       "opts": {
        "password": false,
        "prompt": "digite sua altura em decimal < use o ponto como separador >"
       },
       "output_type": "stream",
       "value": "2.34"
      }
     }
    },
    "collapsed": false
   },
   "outputs": [
    {
     "name": "stdout",
     "output_type": "stream",
     "text": "digite sua altura em decimal < use o ponto como separador > 2.34"
    },
    {
     "name": "stdout",
     "output_type": "stream",
     "text": [
      "Sua altutra e: 2.34\n"
     ]
    }
   ],
   "source": [
    "altura = float(input(\"digite sua altura em decimal < use o ponto como separador >\"))\n",
    "print(\"Sua altutra e:\", altura)"
   ]
  },
  {
   "cell_type": "markdown",
   "metadata": {
    "collapsed": false
   },
   "source": [
    "### Listas em Python\n",
    "Lista é um conjunto sequencial de valores, onde cada valor é identificado através de um índice. \n",
    "O primeiro valor tem índice 0. \n",
    "Uma lista em Python é declarada da seguinte forma:\n",
    "Nome_Lista = [ valor1, valor2, ..., valorN]\n",
    "Uma lista pode ter valores de qualquer tipo, incluindo outras listas. "
   ]
  },
  {
   "cell_type": "code",
   "execution_count": 1,
   "metadata": {
    "collapsed": false
   },
   "outputs": [
   ],
   "source": [
    "lst=[8,5,9,34,67]"
   ]
  },
  {
   "cell_type": "code",
   "execution_count": 2,
   "metadata": {
    "collapsed": false
   },
   "outputs": [
    {
     "name": "stdout",
     "output_type": "stream",
     "text": [
      "5\n"
     ]
    }
   ],
   "source": [
    "print(len(lst))"
   ]
  },
  {
   "cell_type": "code",
   "execution_count": 35,
   "metadata": {
    "collapsed": false
   },
   "outputs": [
   ],
   "source": [
    "L = [3 , 'abacate' , 9.7 , [5 , 6 , 3] , \"Python\" , (3 , 'j')]"
   ]
  },
  {
   "cell_type": "code",
   "execution_count": 40,
   "metadata": {
    "collapsed": false
   },
   "outputs": [
    {
     "name": "stdout",
     "output_type": "stream",
     "text": [
      "[3, 56, 9.7, [5, 6, 3], 'Python', (3, 'j')]\n"
     ]
    }
   ],
   "source": [
    "L[1]=56\n",
    "print(L)"
   ]
  },
  {
   "cell_type": "code",
   "execution_count": 41,
   "metadata": {
    "collapsed": false
   },
   "outputs": [
   ],
   "source": [
    "matriz=[[1,2,3],[3,4,5],[7,8,9]]"
   ]
  },
  {
   "cell_type": "code",
   "execution_count": 42,
   "metadata": {
    "collapsed": false
   },
   "outputs": [
    {
     "name": "stdout",
     "output_type": "stream",
     "text": [
      "[[1, 2, 3], [3, 4, 5], [7, 8, 9]]\n"
     ]
    }
   ],
   "source": [
    "print(matriz)"
   ]
  },
  {
   "cell_type": "code",
   "execution_count": 43,
   "metadata": {
    "collapsed": false
   },
   "outputs": [
    {
     "name": "stdout",
     "output_type": "stream",
     "text": [
      "5\n"
     ]
    }
   ],
   "source": [
    "print(matriz[1][2])"
   ]
  },
  {
   "cell_type": "markdown",
   "metadata": {
    "collapsed": false
   },
   "source": [
    "Listas são indexadas, iniciando em 0. Podemos acessar os elementos individualmente pelo índice. Se for outra lista o indice poderá ser acessado também."
   ]
  },
  {
   "cell_type": "code",
   "execution_count": 13,
   "metadata": {
    "collapsed": false
   },
   "outputs": [
    {
     "name": "stdout",
     "output_type": "stream",
     "text": [
      "8\n"
     ]
    }
   ],
   "source": [
    "print(lst[0])"
   ]
  },
  {
   "cell_type": "code",
   "execution_count": 14,
   "metadata": {
    "collapsed": false
   },
   "outputs": [
    {
     "name": "stdout",
     "output_type": "stream",
     "text": [
      "3\n"
     ]
    }
   ],
   "source": [
    "print(L[0])"
   ]
  },
  {
   "cell_type": "code",
   "execution_count": 15,
   "metadata": {
    "collapsed": false
   },
   "outputs": [
    {
     "name": "stdout",
     "output_type": "stream",
     "text": [
      "6\n"
     ]
    }
   ],
   "source": [
    "print(L[3][1])"
   ]
  },
  {
   "cell_type": "markdown",
   "metadata": {
    "collapsed": false
   },
   "source": [
    "Para alterar um elemento da lista, basta fazer uma atribuição de valor através do índice. O valor\n",
    "existente será substituído pelo novo valor."
   ]
  },
  {
   "cell_type": "code",
   "execution_count": 16,
   "metadata": {
    "collapsed": false
   },
   "outputs": [
    {
     "name": "stdout",
     "output_type": "stream",
     "text": [
      "[3, 'abacate', 9.7, 'frutas', 'Python', (3, 'j')]\n"
     ]
    }
   ],
   "source": [
    "L[3]= 'frutas'\n",
    "print(L)"
   ]
  },
  {
   "cell_type": "markdown",
   "metadata": {
    "collapsed": false
   },
   "source": [
    "Podemos inserir com: insert ou append"
   ]
  },
  {
   "cell_type": "markdown",
   "metadata": {
    "collapsed": false
   },
   "source": [
    "Insert tem que informar o índice e o elemento"
   ]
  },
  {
   "cell_type": "code",
   "execution_count": 3,
   "metadata": {
    "collapsed": false
   },
   "outputs": [
   ],
   "source": [
    "lst1=lst"
   ]
  },
  {
   "cell_type": "code",
   "execution_count": 11,
   "metadata": {
    "collapsed": false
   },
   "outputs": [
    {
     "name": "stdout",
     "output_type": "stream",
     "text": [
      "[5, 8, 9, 34, 67] None\n"
     ]
    }
   ],
   "source": [
    "lst2=lst1.sort()\n",
    "print(lst1,lst2)"
   ]
  },
  {
   "cell_type": "code",
   "execution_count": 49,
   "metadata": {
    "collapsed": false
   },
   "outputs": [
    {
     "name": "stdout",
     "output_type": "stream",
     "text": [
      "[8, 5, 9, 34, 44, 44, 67]\n"
     ]
    }
   ],
   "source": [
    "lst1.insert(4,44)\n",
    "print(lst)"
   ]
  },
  {
   "cell_type": "code",
   "execution_count": 51,
   "metadata": {
    "collapsed": false
   },
   "outputs": [
    {
     "name": "stdout",
     "output_type": "stream",
     "text": [
      "[44, 8, 5, 9, 34, 44, 44, 67]\n"
     ]
    }
   ],
   "source": [
    "#lst.insert(0,44)\n",
    "print(lst)"
   ]
  },
  {
   "cell_type": "markdown",
   "metadata": {
    "collapsed": false
   },
   "source": [
    "Append insere na cauda da lista"
   ]
  },
  {
   "cell_type": "code",
   "execution_count": 54,
   "metadata": {
    "collapsed": false
   },
   "outputs": [
    {
     "name": "stdout",
     "output_type": "stream",
     "text": [
      "[44, 8, 5, 9, 34, 44, 44, 67, 7, 7, 7]\n"
     ]
    }
   ],
   "source": [
    "lst.append(7)\n",
    "print(lst)"
   ]
  },
  {
   "cell_type": "markdown",
   "metadata": {
    "collapsed": false
   },
   "source": [
    "Remover com del, tem que informar o índice"
   ]
  },
  {
   "cell_type": "code",
   "execution_count": 57,
   "metadata": {
    "collapsed": false
   },
   "outputs": [
    {
     "name": "stdout",
     "output_type": "stream",
     "text": [
      "[44, 8, 44, 44, 67, 7, 7, 7]\n"
     ]
    }
   ],
   "source": [
    "del lst1[2]\n",
    "print(lst)"
   ]
  },
  {
   "cell_type": "markdown",
   "metadata": {
    "collapsed": false
   },
   "source": [
    "Pegar o tamanho da lista com len\n",
    "\n"
   ]
  },
  {
   "cell_type": "code",
   "execution_count": 58,
   "metadata": {
    "collapsed": false
   },
   "outputs": [
    {
     "data": {
      "text/plain": [
       "8"
      ]
     },
     "execution_count": 58,
     "metadata": {
     },
     "output_type": "execute_result"
    }
   ],
   "source": [
    "len(lst1)"
   ]
  },
  {
   "cell_type": "markdown",
   "metadata": {
    "collapsed": false
   },
   "source": [
    "Criação de listas com **range ( )**.\n",
    "\n",
    "A função **range()** define um intervalo de valores inteiros. \n",
    "Associada a **list()**, cria uma lista com os valores do intervalo.\n",
    "A função range() pode ter de 1 a 3 parâmetros:\n",
    " 1. range(n) gera um intervalo de 0 a n-1\n",
    " 2. range(i , n)  gera um intervalo de i a n-1\n",
    " 3. range(i , n, p) gera um intervalo de i a n-1 com intervalo p entre os números"
   ]
  },
  {
   "cell_type": "code",
   "execution_count": 59,
   "metadata": {
    "collapsed": false
   },
   "outputs": [
    {
     "name": "stdout",
     "output_type": "stream",
     "text": [
      "[0, 1, 2, 3, 4]\n",
      "[3, 4, 5, 6, 7]\n",
      "[11, 8, 5]\n"
     ]
    }
   ],
   "source": [
    "L1 = list(range(5))\n",
    "print(L1)\n",
    "L2 = list(range(3,8))\n",
    "print(L2)\n",
    "L3 = list(range(11,2,-3))\n",
    "print(L3)"
   ]
  },
  {
   "cell_type": "markdown",
   "metadata": {
    "collapsed": false
   },
   "source": [
    "### ESTRUTURAS DE DECISÃO\n",
    "As estruturas de decisão permitem alterar o curso do fluxo de execução de um programa, de acordo com o valor (Verdadeiro/Falso) de um teste lógico (condição).\n",
    "Em Python temos as seguintes estruturas de decisão:\n",
    "- if (se)\n",
    "- if..else (se..senão)\n",
    "- if..elif..else (se..senão..senão se)"
   ]
  },
  {
   "cell_type": "markdown",
   "metadata": {
    "collapsed": false
   },
   "source": [
    "#### Estrutura if\n",
    "O comando if é utilizado quando precisamos decidir se um trecho do programa deve ou não ser\n",
    "executado. Ele é associado a uma condição, e o trecho de código será executado se o valor da\n",
    "condição for verdadeiro. Observando que o sinal de \":\" é importante após a condição.\n",
    "Sintaxe:\n",
    "> if \\<condição\\>: <p>\n",
    "  \\<Bloco de comandos \\>"
   ]
  },
  {
   "cell_type": "code",
   "execution_count": 61,
   "metadata": {
    "cocalc": {
     "outputs": {
      "0": {
       "name": "input",
       "opts": {
        "password": false,
        "prompt": "qual sua idade?"
       },
       "output_type": "stream",
       "value": "15"
      }
     }
    },
    "collapsed": false
   },
   "outputs": [
    {
     "name": "stdout",
     "output_type": "stream",
     "text": "qual sua idade? 15"
    }
   ],
   "source": [
    "idade=int(input(\"qual sua idade?\"))\n",
    "if idade > 18: \n",
    "    print(\"Voce é maior de idade\")"
   ]
  },
  {
   "cell_type": "markdown",
   "metadata": {
    "collapsed": false
   },
   "source": [
    "#### Estrutura if..else\n",
    "Nesta estrutura, um trecho de código será executado se a condição for verdadeira e outro se a\n",
    "condição for falsa. Observando que o sinal de \":\" é importante após a condição e após o else.\n",
    "Sintaxe:\n",
    "> if \\<condição\\> :<p>\n",
    " \\<Bloco de comandos para condição verdadeira\\><p>\n",
    "else :<p>\n",
    "  \\<Bloco de comandos para condição falsa\\><p>"
   ]
  },
  {
   "cell_type": "code",
   "execution_count": 63,
   "metadata": {
    "cocalc": {
     "outputs": {
      "0": {
       "name": "input",
       "opts": {
        "password": false,
        "prompt": "qual sua idade?"
       },
       "output_type": "stream",
       "value": "12"
      }
     }
    },
    "collapsed": false
   },
   "outputs": [
    {
     "name": "stdout",
     "output_type": "stream",
     "text": "qual sua idade? 12"
    },
    {
     "name": "stdout",
     "output_type": "stream",
     "text": [
      "Voce é menor de idade\n"
     ]
    }
   ],
   "source": [
    "idade=int(input(\"qual sua idade?\"))\n",
    "if idade > 18: \n",
    "    print(\"Voce é maior de idade\")\n",
    "else:\n",
    "    print(\"Voce é menor de idade\")"
   ]
  },
  {
   "cell_type": "markdown",
   "metadata": {
    "collapsed": false
   },
   "source": [
    "#### Comando if..elif..else\n",
    "Se houver diversas condições, cada uma associada a um trecho de código, utiliza-se o *elif*.\n",
    "Sintaxe:\n",
    "> if \\<condição1\\> :<p>\n",
    "<Bloco de comandos 1\\><p>\n",
    "elif \\<condição2\\> :<p>\n",
    "\\<Bloco de comandos 2\\><p>\n",
    "elif \\<condição3\\> :<p>\n",
    "\\<Bloco de comandos 3\\><p>\n",
    "else :<p>\n",
    "\\<Bloco de comandos default\\><p>"
   ]
  },
  {
   "cell_type": "code",
   "execution_count": 66,
   "metadata": {
    "cocalc": {
     "outputs": {
      "0": {
       "name": "input",
       "opts": {
        "password": false,
        "prompt": "qual sua idade?"
       },
       "output_type": "stream",
       "value": "60"
      }
     }
    },
    "collapsed": false
   },
   "outputs": [
    {
     "name": "stdout",
     "output_type": "stream",
     "text": "qual sua idade? 60"
    },
    {
     "name": "stdout",
     "output_type": "stream",
     "text": [
      "Voce é o cara!\n"
     ]
    }
   ],
   "source": [
    "idade=int(input(\"qual sua idade?\"))\n",
    "if idade < 5: \n",
    "    print(\"Voce é um bebê!\")\n",
    "elif idade < 10: \n",
    "    print(\"Voce é pré-adolescente!\")\n",
    "elif idade < 18:  \n",
    "    print(\"Voce é adolescente!\")\n",
    "elif idade > 60:  \n",
    "    print(\"Voce é da melhor idade!\")\n",
    "else:\n",
    "    print(\"Voce é o cara!\")"
   ]
  },
  {
   "cell_type": "markdown",
   "metadata": {
    "collapsed": false
   },
   "source": [
    "### ESTRUTURAS DE REPETIÇÃO\n",
    "A Estrutura de repetição é utilizada para executar uma mesma sequência de comandos várias vezes.\n",
    "A repetição está associada ou a uma **condição**, que indica se deve continuar ou não a repetição, ou a\n",
    "uma **sequência de valores**, que determina quantas vezes a sequência deve ser repetida. As estruturas\n",
    "de repetição são conhecidas também como **laços** (*loops*)."
   ]
  },
  {
   "cell_type": "markdown",
   "metadata": {
    "collapsed": false
   },
   "source": [
    "#### Laço while\n",
    "No laço **while**, o trecho de código da repetição está associado a uma **condição**. Enquanto a condição\n",
    "tiver valor *verdadeiro*, o trecho é executado. Quando a condição passar a ter valor *falso*, a repetição\n",
    "termina. Observe o sinal \":\" no final da condição.\n",
    "Sintaxe:\n",
    "> while \\<condição\\> :<p>\n",
    ">>    \\<Bloco de comandos\\>"
   ]
  },
  {
   "cell_type": "code",
   "execution_count": 12,
   "metadata": {
    "cocalc": {
     "outputs": {
      "0": {
       "name": "input",
       "opts": {
        "password": false,
        "prompt": "Digite a senha: "
       },
       "output_type": "stream",
       "value": "456"
      },
      "2": {
       "name": "input",
       "opts": {
        "password": false,
        "prompt": "Digite a senha: "
       },
       "output_type": "stream",
       "value": "133"
      },
      "3": {
       "name": "input",
       "opts": {
        "password": false,
        "prompt": "Digite a senha: "
       },
       "output_type": "stream"
      },
      "4": {
       "name": "input",
       "opts": {
        "password": false,
        "prompt": "Digite a senha: "
       },
       "output_type": "stream",
       "value": "78"
      },
      "6": {
       "name": "input",
       "opts": {
        "password": false,
        "prompt": "Digite a senha: "
       },
       "output_type": "stream",
       "value": "123"
      }
     }
    },
    "collapsed": false
   },
   "outputs": [
    {
     "name": "stdout",
     "output_type": "stream",
     "text": "Digite a senha:  456"
    },
    {
     "name": "stdout",
     "output_type": "stream",
     "text": [
      "Senha incorreta. Tente novamente\n"
     ]
    },
    {
     "name": "stdout",
     "output_type": "stream",
     "text": "Digite a senha:  133"
    },
    {
     "name": "stdout",
     "output_type": "stream",
     "text": "Digite a senha:  "
    },
    {
     "name": "stdout",
     "output_type": "stream",
     "text": "Digite a senha:  78"
    },
    {
     "name": "stdout",
     "output_type": "stream",
     "text": [
      "Senha incorreta. Tente novamente\n"
     ]
    },
    {
     "name": "stdout",
     "output_type": "stream",
     "text": "Digite a senha:  123"
    },
    {
     "name": "stdout",
     "output_type": "stream",
     "text": [
      "Acesso liberado \n"
     ]
    }
   ],
   "source": [
    "senha = \"123\"\n",
    "leitura =\" \"\n",
    "while (leitura != senha):\n",
    "    leitura = input(\"Digite a senha: \")\n",
    "    if leitura == senha :\n",
    "         print('Acesso liberado ')\n",
    "    else:\n",
    "         print('Senha incorreta. Tente novamente')"
   ]
  },
  {
   "cell_type": "code",
   "execution_count": 16,
   "metadata": {
    "cocalc": {
     "outputs": {
      "0": {
       "name": "input",
       "opts": {
        "password": false,
        "prompt": "Digite a idade"
       },
       "output_type": "stream",
       "value": "15"
      },
      "1": {
       "name": "input",
       "opts": {
        "password": false,
        "prompt": "Digite a idade"
       },
       "output_type": "stream",
       "value": "16"
      },
      "2": {
       "name": "input",
       "opts": {
        "password": false,
        "prompt": "Digite a idade"
       },
       "output_type": "stream",
       "value": "10"
      },
      "3": {
       "name": "input",
       "opts": {
        "password": false,
        "prompt": "Digite a idade"
       },
       "output_type": "stream",
       "value": "-1"
      },
      "4": {
       "name": "input",
       "opts": {
        "password": false,
        "prompt": "Digite a idade"
       },
       "output_type": "stream",
       "value": "10"
      },
      "5": {
       "name": "input",
       "opts": {
        "password": false,
        "prompt": "Digite a idade"
       },
       "output_type": "stream",
       "value": "-1"
      }
     }
    },
    "collapsed": false
   },
   "outputs": [
    {
     "name": "stdout",
     "output_type": "stream",
     "text": "Digite a idade 15"
    },
    {
     "name": "stdout",
     "output_type": "stream",
     "text": "Digite a idade 16"
    },
    {
     "name": "stdout",
     "output_type": "stream",
     "text": "Digite a idade 10"
    },
    {
     "name": "stdout",
     "output_type": "stream",
     "text": "Digite a idade -1"
    },
    {
     "name": "stdout",
     "output_type": "stream",
     "text": "Digite a idade 10"
    }
   ],
   "source": [
    "\n",
    "num = 0\n",
    "total = 0\n",
    "idade = 0\n",
    "#idade = int(input(\"Digite a idade\"))\n",
    "while (idade != -1 ):\n",
    "    idade = int(input(\"Digite a idade\"))\n",
    "    if idade > 0:\n",
    "        total=total+idade\n",
    "        num = num + 1\n",
    "media = total / num\n",
    "print(\"idades:\",total,\"num:\",num)\n",
    "print(\"Media de idade:\",media)"
   ]
  },
  {
   "cell_type": "code",
   "execution_count": 6,
   "metadata": {
    "cocalc": {
     "outputs": {
      "0": {
       "name": "input",
       "opts": {
        "password": false,
        "prompt": "Digite a idade"
       },
       "output_type": "stream",
       "value": "4"
      },
      "1": {
       "name": "input",
       "opts": {
        "password": false,
        "prompt": "Digite a idade"
       },
       "output_type": "stream",
       "value": "5"
      },
      "2": {
       "name": "input",
       "opts": {
        "password": false,
        "prompt": "Digite a idade"
       },
       "output_type": "stream",
       "value": "6"
      },
      "3": {
       "name": "input",
       "opts": {
        "password": false,
        "prompt": "Digite a idade"
       },
       "output_type": "stream",
       "value": "7"
      },
      "4": {
       "name": "input",
       "opts": {
        "password": false,
        "prompt": "Digite a idade"
       },
       "output_type": "stream",
       "value": "8"
      }
     }
    },
    "collapsed": false
   },
   "outputs": [
    {
     "name": "stdout",
     "output_type": "stream",
     "text": "Digite a idade 4"
    },
    {
     "name": "stdout",
     "output_type": "stream",
     "text": "Digite a idade 5"
    },
    {
     "name": "stdout",
     "output_type": "stream",
     "text": "Digite a idade 6"
    },
    {
     "name": "stdout",
     "output_type": "stream",
     "text": "Digite a idade 7"
    },
    {
     "name": "stdout",
     "output_type": "stream",
     "text": "Digite a idade 8"
    },
    {
     "name": "stdout",
     "output_type": "stream",
     "text": [
      "idades: 22 num: 5\n",
      "Media de idade: 4.4\n"
     ]
    }
   ],
   "source": [
    "num = 1\n",
    "total = 0\n",
    "idade = int(input(\"Digite a idade\"))\n",
    "while (num < 5):\n",
    "    total=total+idade\n",
    "    num = num + 1\n",
    "    idade = int(input(\"Digite a idade\"))\n",
    "media = total / num\n",
    "print(\"idades:\",total,\"num:\",num)\n",
    "print(\"Media de idade:\",media)"
   ]
  },
  {
   "cell_type": "markdown",
   "metadata": {
    "collapsed": false
   },
   "source": [
    "# Laço for\n",
    "O laço **for** é a estrutura de repetição mais utilizada em Python. Pode ser utilizado com uma\n",
    "sequência numérica (gerada com o comando *range*) ou associado a uma lista. \n",
    "O trecho de código da repetição é executado para cada valor da sequência numérica ou da lista.<p>\n",
    "Sintaxe:\n",
    "> for \\<variável\\> in range (início, limite, passo):<p>\n",
    "<Bloco de comandos><p>\n",
    "ou<p>\n",
    "for <variável> in <lista> :<p>\n",
    "<Bloco de comandos ><p>"
   ]
  },
  {
   "cell_type": "code",
   "execution_count": 19,
   "metadata": {
    "collapsed": false
   },
   "outputs": [
   ],
   "source": [
    "lst=list(range(2,21,3))"
   ]
  },
  {
   "cell_type": "code",
   "execution_count": 20,
   "metadata": {
    "collapsed": false
   },
   "outputs": [
    {
     "name": "stdout",
     "output_type": "stream",
     "text": [
      "2\n",
      "5\n",
      "8\n",
      "11\n",
      "14\n",
      "17\n",
      "20\n"
     ]
    }
   ],
   "source": [
    "for val in lst:\n",
    "    print(val)"
   ]
  },
  {
   "cell_type": "code",
   "execution_count": 22,
   "metadata": {
    "collapsed": false
   },
   "outputs": [
    {
     "name": "stdout",
     "output_type": "stream",
     "text": [
      "[1, 2, 4]\n",
      "[4, 5, 6]\n",
      "[7, 4, 5]\n"
     ]
    }
   ],
   "source": [
    "for val in [[1,2,4],[4,5,6],[7,4,5]]:\n",
    "    print(val)"
   ]
  },
  {
   "cell_type": "code",
   "execution_count": 23,
   "metadata": {
    "collapsed": false,
    "scrolled": true
   },
   "outputs": [
    {
     "name": "stdout",
     "output_type": "stream",
     "text": [
      "1\n",
      "2\n",
      "4\n",
      "4\n",
      "5\n",
      "6\n",
      "7\n",
      "4\n",
      "5\n"
     ]
    }
   ],
   "source": [
    "for linha in [[1,2,4],[4,5,6],[7,4,5]]:\n",
    "    for coluna in linha:\n",
    "        print(coluna)\n"
   ]
  },
  {
   "cell_type": "code",
   "execution_count": 24,
   "metadata": {
    "collapsed": false
   },
   "outputs": [
    {
     "name": "stdout",
     "output_type": "stream",
     "text": [
      "maca\n",
      "pera\n",
      "uva\n",
      "mamao\n"
     ]
    }
   ],
   "source": [
    "for t in [\"maca\",\"pera\",\"uva\",\"mamao\"]:\n",
    "    print(t)"
   ]
  },
  {
   "cell_type": "markdown",
   "metadata": {
    "collapsed": false
   },
   "source": [
    "**Listas** podem ser usadas como **Vetores**: É um conjunto de variáveis do mesmo tipo acessíveis com um único nome. Armazenadas de forma contínua e ocupando as posições de forma fixas. Pode-se dizer que vetor é uma matriz unidimensional.\n",
    "\n",
    "**Matrizes**: é uma variável composta homogênea multidimensional, formada por variáveis, todas do mesmo tipo de dados, com o mesmo identificador(mesmo nome)."
   ]
  },
  {
   "cell_type": "code",
   "execution_count": 25,
   "metadata": {
    "collapsed": false
   },
   "outputs": [
   ],
   "source": [
    "#3 linhas 3 colunas = 3 x 3\n",
    "notas = [ [85, 91, 89], [78, 81, 86], [62, 75, 77]]"
   ]
  },
  {
   "cell_type": "code",
   "execution_count": 26,
   "metadata": {
    "collapsed": false,
    "scrolled": true
   },
   "outputs": [
    {
     "name": "stdout",
     "output_type": "stream",
     "text": [
      "[[85, 91, 89], [78, 81, 86], [62, 75, 77]]\n"
     ]
    }
   ],
   "source": [
    "print(notas)"
   ]
  },
  {
   "cell_type": "code",
   "execution_count": 27,
   "metadata": {
    "collapsed": false
   },
   "outputs": [
    {
     "data": {
      "text/plain": [
       "[[85, 91, 89], [78, 81, 86], [62, 75, 77]]"
      ]
     },
     "execution_count": 27,
     "metadata": {
     },
     "output_type": "execute_result"
    }
   ],
   "source": [
    "notas"
   ]
  },
  {
   "cell_type": "code",
   "execution_count": 16,
   "metadata": {
    "collapsed": false
   },
   "outputs": [
    {
     "name": "stdout",
     "output_type": "stream",
     "text": [
      "[78, 81, 86]\n"
     ]
    }
   ],
   "source": [
    "print(notas[1])"
   ]
  },
  {
   "cell_type": "code",
   "execution_count": 28,
   "metadata": {
    "collapsed": false
   },
   "outputs": [
    {
     "name": "stdout",
     "output_type": "stream",
     "text": [
      "77\n"
     ]
    }
   ],
   "source": [
    "print(notas[2][2])"
   ]
  },
  {
   "cell_type": "code",
   "execution_count": 29,
   "metadata": {
    "collapsed": false
   },
   "outputs": [
    {
     "name": "stdout",
     "output_type": "stream",
     "text": [
      "[85, 91, 89]\n",
      "[78, 81, 86]\n",
      "[62, 75, 77]\n"
     ]
    }
   ],
   "source": [
    "for i in notas:\n",
    "    print(i)"
   ]
  },
  {
   "cell_type": "code",
   "execution_count": 30,
   "metadata": {
    "collapsed": false
   },
   "outputs": [
    {
     "name": "stdout",
     "output_type": "stream",
     "text": [
      "62\n",
      "75\n",
      "77\n"
     ]
    }
   ],
   "source": [
    "for i in notas[2]:\n",
    "    print(i)"
   ]
  },
  {
   "cell_type": "code",
   "execution_count": 24,
   "metadata": {
    "collapsed": false
   },
   "outputs": [
    {
     "name": "stdout",
     "output_type": "stream",
     "text": [
      "85\n",
      "91\n",
      "89\n",
      "78\n",
      "81\n",
      "86\n",
      "62\n",
      "75\n",
      "77\n"
     ]
    }
   ],
   "source": [
    "for i in notas:\n",
    "    #print(i)\n",
    "    for j in i:\n",
    "        print(j)"
   ]
  },
  {
   "cell_type": "code",
   "execution_count": 22,
   "metadata": {
    "collapsed": false
   },
   "outputs": [
    {
     "data": {
      "text/plain": [
       "3"
      ]
     },
     "execution_count": 22,
     "metadata": {
     },
     "output_type": "execute_result"
    }
   ],
   "source": [
    "len(notas)"
   ]
  },
  {
   "cell_type": "code",
   "execution_count": 19,
   "metadata": {
    "collapsed": false
   },
   "outputs": [
    {
     "name": "stdout",
     "output_type": "stream",
     "text": [
      "0\n",
      "1\n",
      "2\n"
     ]
    }
   ],
   "source": [
    "for ind in range(len(notas)):\n",
    "    print(ind)"
   ]
  },
  {
   "cell_type": "code",
   "execution_count": 25,
   "metadata": {
    "collapsed": false
   },
   "outputs": [
    {
     "name": "stdout",
     "output_type": "stream",
     "text": [
      "0 0\n",
      "0 1\n",
      "0 2\n",
      "0 3\n",
      "0 4\n",
      "1 0\n",
      "1 1\n",
      "1 2\n",
      "1 3\n",
      "1 4\n"
     ]
    }
   ],
   "source": [
    "for linha in range(2):\n",
    "    for coluna in range(5):\n",
    "        print(linha,coluna)"
   ]
  },
  {
   "cell_type": "code",
   "execution_count": 2,
   "metadata": {
    "collapsed": false
   },
   "outputs": [
    {
     "name": "stdout",
     "output_type": "stream",
     "text": [
      "0 0\n",
      "1 0\n",
      "2 0\n",
      "3 0\n",
      "4 0\n",
      "0 1\n",
      "1 1\n",
      "2 1\n",
      "3 1\n",
      "4 1\n"
     ]
    }
   ],
   "source": [
    "for linha in range(2):\n",
    "    for coluna in range(5):\n",
    "        print(coluna,linha)"
   ]
  },
  {
   "cell_type": "code",
   "execution_count": 22,
   "metadata": {
    "collapsed": false
   },
   "outputs": [
    {
     "name": "stdout",
     "output_type": "stream",
     "text": [
      "85\n",
      "78\n",
      "62\n",
      "91\n",
      "81\n",
      "75\n",
      "89\n",
      "86\n",
      "77\n"
     ]
    }
   ],
   "source": [
    "\n",
    "for linha in range(len(notas)):\n",
    "    for coluna in range(len(notas)):\n",
    "        print(notas[coluna][linha])"
   ]
  },
  {
   "cell_type": "code",
   "execution_count": 31,
   "metadata": {
    "collapsed": false
   },
   "outputs": [
   ],
   "source": [
    "def select (lst):\n",
    "    for i in range(len(lst)):\n",
    "        #print (\"i:\",i)\n",
    "        for k in range(i+1,len(lst)):\n",
    "            #print(\"k:\",k) \n",
    "            if lst[k] < lst[i]:\n",
    "                aux=lst[i]\n",
    "                lst[i]=lst[k]\n",
    "                lst[k]=aux\n",
    "    print(\"result\",lst)\n",
    "    "
   ]
  },
  {
   "cell_type": "code",
   "execution_count": 32,
   "metadata": {
    "collapsed": false
   },
   "outputs": [
    {
     "name": "stdout",
     "output_type": "stream",
     "text": [
      "result [1, 2, 3, 4, 6, 6, 7, 8]\n"
     ]
    }
   ],
   "source": [
    "lista=[6,4,1,3,7,8,6,2]\n",
    "select(lista) \n",
    "#print(lista)"
   ]
  },
  {
   "cell_type": "code",
   "execution_count": 27,
   "metadata": {
    "collapsed": false
   },
   "outputs": [
   ],
   "source": [
    "for k in range(len(lst)):\n",
    "    #print(k,lst[k])\n",
    "    for l in range(k+1,len(lst)):\n",
    "        if lst[l] < lst [k]:\n",
    "            aux=lst[k]\n",
    "            lst[k]=lst[l]\n",
    "            lst[l]=aux"
   ]
  },
  {
   "cell_type": "code",
   "execution_count": 28,
   "metadata": {
    "collapsed": false
   },
   "outputs": [
    {
     "name": "stdout",
     "output_type": "stream",
     "text": [
      "[1, 2, 3, 4, 4, 7, 8]\n"
     ]
    }
   ],
   "source": [
    "print(lst)"
   ]
  },
  {
   "cell_type": "code",
   "execution_count": 0,
   "metadata": {
    "collapsed": false
   },
   "outputs": [
   ],
   "source": [
   ]
  }
 ],
 "metadata": {
  "kernelspec": {
   "display_name": "Python 3 (system-wide)",
   "env": {
   },
   "language": "python",
   "metadata": {
    "cocalc": {
     "description": "Python 3 programming language",
     "priority": 100,
     "url": "https://www.python.org/"
    }
   },
   "name": "python3",
   "resource_dir": "/ext/jupyter/kernels/python3"
  },
  "language_info": {
   "codemirror_mode": {
    "name": "ipython",
    "version": 3
   },
   "file_extension": ".py",
   "mimetype": "text/x-python",
   "name": "python",
   "nbconvert_exporter": "python",
   "pygments_lexer": "ipython3",
   "version": "3.6.9"
  }
 },
 "nbformat": 4,
 "nbformat_minor": 4
}