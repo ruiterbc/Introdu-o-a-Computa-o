{
 "cells": [
  {
   "cell_type": "markdown",
   "metadata": {
    "collapsed": false
   },
   "source": [
    "##### Variável: área da memória do computador para armazenar valores."
   ]
  },
  {
   "cell_type": "code",
   "execution_count": 25,
   "metadata": {
    "collapsed": false
   },
   "outputs": [
   ],
   "source": [
    "x = \"A\"\n",
    "y = \"AB9\"\n",
    "z=x+y\n",
    "k=12.9\n",
    "z=int(k)+12\n",
    "l=[2,4,6,2,9]"
   ]
  },
  {
   "cell_type": "code",
   "execution_count": 27,
   "metadata": {
    "collapsed": false
   },
   "outputs": [
    {
     "name": "stdout",
     "output_type": "stream",
     "text": [
      "24\n"
     ]
    }
   ],
   "source": [
    "print(z)"
   ]
  },
  {
   "cell_type": "code",
   "execution_count": 26,
   "metadata": {
    "collapsed": false
   },
   "outputs": [
    {
     "data": {
      "text/plain": [
       "list"
      ]
     },
     "execution_count": 26,
     "metadata": {
     },
     "output_type": "execute_result"
    }
   ],
   "source": [
    "type(l)"
   ]
  },
  {
   "cell_type": "markdown",
   "metadata": {
    "collapsed": false
   },
   "source": [
    "PASSO 1:\n",
    "\n",
    "Adote x=m e y=n"
   ]
  },
  {
   "cell_type": "code",
   "execution_count": 30,
   "metadata": {
    "collapsed": false
   },
   "outputs": [
   ],
   "source": [
    "x=12\n",
    "y=18"
   ]
  },
  {
   "cell_type": "markdown",
   "metadata": {
    "collapsed": false
   },
   "source": [
    "PASSO 2:\n",
    "Adote r = resto da divisão de x por y"
   ]
  },
  {
   "cell_type": "code",
   "execution_count": 33,
   "metadata": {
    "collapsed": false
   },
   "outputs": [
    {
     "name": "stdout",
     "output_type": "stream",
     "text": [
      "6\n"
     ]
    }
   ],
   "source": [
    "r=y % x\n",
    "print(r)"
   ]
  },
  {
   "cell_type": "markdown",
   "metadata": {
    "collapsed": false
   },
   "source": [
    "PASSO 3:\n",
    "Adote novos valores de x=y e y=r"
   ]
  },
  {
   "cell_type": "code",
   "execution_count": 41,
   "metadata": {
    "collapsed": false
   },
   "outputs": [
   ],
   "source": [
    "x=y\n",
    "y=r"
   ]
  },
  {
   "cell_type": "code",
   "execution_count": 42,
   "metadata": {
    "collapsed": false,
    "scrolled": true
   },
   "outputs": [
    {
     "name": "stdout",
     "output_type": "stream",
     "text": [
      "6\n",
      "0\n"
     ]
    }
   ],
   "source": [
    "print(x)\n",
    "print(y)"
   ]
  },
  {
   "cell_type": "markdown",
   "metadata": {
    "collapsed": false
   },
   "source": [
    "PASSO 4:\n",
    "Se r é diferente de 0, volte ao passo 2. Senão pare com a resposta MDC=x"
   ]
  },
  {
   "cell_type": "code",
   "execution_count": 43,
   "metadata": {
    "collapsed": false
   },
   "outputs": [
    {
     "name": "stdout",
     "output_type": "stream",
     "text": [
      "0\n"
     ]
    }
   ],
   "source": [
    "print(r)"
   ]
  },
  {
   "cell_type": "code",
   "execution_count": 44,
   "metadata": {
    "collapsed": false
   },
   "outputs": [
    {
     "name": "stdout",
     "output_type": "stream",
     "text": [
      "MDC= 6\n"
     ]
    }
   ],
   "source": [
    "print(\"MDC=\",x)"
   ]
  },
  {
   "cell_type": "markdown",
   "metadata": {
    "collapsed": false
   },
   "source": [
    "##### Programa que calcula o MDC de dois números inteiros."
   ]
  },
  {
   "cell_type": "code",
   "execution_count": 3,
   "metadata": {
    "cocalc": {
     "outputs": {
      "1": {
       "name": "input",
       "opts": {
        "password": false,
        "prompt": "digite um numero"
       },
       "output_type": "stream",
       "value": "34"
      },
      "2": {
       "name": "input",
       "opts": {
        "password": false,
        "prompt": "digite um numero"
       },
       "output_type": "stream",
       "value": "45"
      }
     }
    },
    "collapsed": false
   },
   "outputs": [
    {
     "name": "stdout",
     "output_type": "stream",
     "text": [
      "Programa que calcula MDC de dois numeros\n"
     ]
    },
    {
     "name": "stdout",
     "output_type": "stream",
     "text": "digite um numero 34"
    },
    {
     "name": "stdout",
     "output_type": "stream",
     "text": "digite um numero 45"
    },
    {
     "name": "stdout",
     "output_type": "stream",
     "text": [
      "MDC 1\n"
     ]
    }
   ],
   "source": [
    "print(\"Programa que calcula MDC de dois numeros\")\n",
    "v1=int(input(\"digite um numero\"))\n",
    "v2=int(input(\"digite um numero\"))\n",
    "# função que devolve o resto = \"%\"\n",
    "resto= v1 % v2\n",
    "while (resto != 0):\n",
    "    v1 = v2\n",
    "    v2 = resto\n",
    "    resto = v1 % v2\n",
    "print(\"MDC\",v2)"
   ]
  },
  {
   "cell_type": "code",
   "execution_count": 2,
   "metadata": {
    "cocalc": {
     "outputs": {
      "1": {
       "name": "input",
       "opts": {
        "password": false,
        "prompt": "digite um numero A:"
       },
       "output_type": "stream",
       "value": "5"
      },
      "2": {
       "name": "input",
       "opts": {
        "password": false,
        "prompt": "digite um numero B:"
       },
       "output_type": "stream",
       "value": "6"
      }
     }
    },
    "collapsed": false,
    "scrolled": true
   },
   "outputs": [
    {
     "name": "stdout",
     "output_type": "stream",
     "text": [
      "Programa Media:\n"
     ]
    },
    {
     "name": "stdout",
     "output_type": "stream",
     "text": "digite um numero A: 5"
    },
    {
     "name": "stdout",
     "output_type": "stream",
     "text": "digite um numero B: 6"
    },
    {
     "name": "stdout",
     "output_type": "stream",
     "text": [
      "Media: 5.5\n"
     ]
    }
   ],
   "source": [
    "print(\"Programa Media:\")\n",
    "a=int(input(\"digite um numero A:\"))\n",
    "b=int(input(\"digite um numero B:\"))\n",
    "media=(a+b)/2\n",
    "print(\"Media:\",media)\n"
   ]
  },
  {
   "cell_type": "code",
   "execution_count": 2,
   "metadata": {
    "cocalc": {
     "outputs": {
      "1": {
       "name": "input",
       "opts": {
        "password": false,
        "prompt": "digite um numero"
       },
       "output_type": "stream",
       "value": "5"
      },
      "2": {
       "name": "input",
       "opts": {
        "password": false,
        "prompt": "digite um numero"
       },
       "output_type": "stream",
       "value": "6"
      },
      "3": {
       "name": "input",
       "opts": {
        "password": false,
        "prompt": "digite um numero"
       },
       "output_type": "stream",
       "value": "4"
      },
      "4": {
       "name": "input",
       "opts": {
        "password": false,
        "prompt": "digite um numero"
       },
       "output_type": "stream",
       "value": "3"
      }
     }
    },
    "collapsed": false
   },
   "outputs": [
    {
     "name": "stdout",
     "output_type": "stream",
     "text": [
      "Programa Media de Notas:\n"
     ]
    },
    {
     "name": "stdout",
     "output_type": "stream",
     "text": "digite um numero 5"
    },
    {
     "name": "stdout",
     "output_type": "stream",
     "text": "digite um numero 6"
    },
    {
     "name": "stdout",
     "output_type": "stream",
     "text": "digite um numero 4"
    },
    {
     "name": "stdout",
     "output_type": "stream",
     "text": "digite um numero 3"
    },
    {
     "name": "stdout",
     "output_type": "stream",
     "text": [
      "Media do aluno: 4.5\n",
      "Reprovado!\n"
     ]
    }
   ],
   "source": [
    "print(\"Programa Media de Notas:\")\n",
    "v1=int(input(\"digite um numero\"))\n",
    "v2=int(input(\"digite um numero\"))\n",
    "v3=int(input(\"digite um numero\"))\n",
    "v4=int(input(\"digite um numero\"))\n",
    "media=(v1+v2+v3+v4)/4\n",
    "print(\"Media do aluno:\",media)\n",
    "if (media >= 5.0):\n",
    "    print(\"Aprovado!\")\n",
    "else:    \n",
    "    print(\"Reprovado!\")\n"
   ]
  },
  {
   "cell_type": "markdown",
   "metadata": {
    "collapsed": false
   },
   "source": [
    "##### Link do programa da média no PythonTutor:"
   ]
  },
  {
   "cell_type": "markdown",
   "metadata": {
    "collapsed": false
   },
   "source": [
    "http://www.pythontutor.com/visualize.html#code=print%28%22Programa%20Media%20de%20Notas%3A%22%29%0Av1%3Dint%28input%28%22digite%20um%20numero%22%29%29%0Av2%3Dint%28input%28%22digite%20um%20numero%22%29%29%0Av3%3Dint%28input%28%22digite%20um%20numero%22%29%29%0Av4%3Dint%28input%28%22digite%20um%20numero%22%29%29%0Amedia%3D%28v1%2Bv2%2Bv3%2Bv4%29/4%0Aprint%28%22Media%20do%20aluno%3A%22,media%29%0Aif%20%28media%20%3E%3D%205.0%29%3A%0A%20%20%20%20print%28%22Aprovado!%22%29%0Aelse%3A%20%20%20%20%0A%20%20%20%20print%28%22Reprovado!%22%29&cumulative=false&heapPrimitives=nevernest&mode=edit&origin=opt-frontend.js&py=3&rawInputLstJSON=%5B%5D&textReferences=false"
   ]
  },
  {
   "cell_type": "markdown",
   "metadata": {
    "collapsed": false
   },
   "source": [
    "Calculo da média para uma quantidade indeterminada de notas:"
   ]
  },
  {
   "cell_type": "markdown",
   "metadata": {
    "collapsed": false
   },
   "source": [
    "Acumulador X Contador\n",
    "\n",
    "Contador: é uma variável que é atualizada com um valor constante, normalmente 1, para contar uma unidade toda vez que o código passar pelo ponto de contagem.\n",
    "\n",
    "Acumulador: é uma variável que é atualizada com valor diferente que será acrescentado ao valor anterior, todas vez que passar pelo ponto de acumulação."
   ]
  },
  {
   "cell_type": "code",
   "execution_count": 9,
   "metadata": {
    "collapsed": false
   },
   "outputs": [
   ],
   "source": [
    "cont = 0\n",
    "acum = 0"
   ]
  },
  {
   "cell_type": "code",
   "execution_count": 5,
   "metadata": {
    "collapsed": false
   },
   "outputs": [
    {
     "name": "stdout",
     "output_type": "stream",
     "text": [
      "3\n"
     ]
    }
   ],
   "source": [
    "cont = cont + 1\n",
    "print(cont)"
   ]
  },
  {
   "cell_type": "code",
   "execution_count": 8,
   "metadata": {
    "cocalc": {
     "outputs": {
      "0": {
       "name": "input",
       "opts": {
        "password": false,
        "prompt": "Novo"
       },
       "output_type": "stream",
       "value": "8"
      }
     }
    },
    "collapsed": false
   },
   "outputs": [
    {
     "name": "stdout",
     "output_type": "stream",
     "text": "Novo 8"
    },
    {
     "name": "stdout",
     "output_type": "stream",
     "text": [
      "13\n"
     ]
    }
   ],
   "source": [
    "novo=int(input(\"Novo\"))\n",
    "acum = acum + novo\n",
    "print (acum)"
   ]
  },
  {
   "cell_type": "code",
   "execution_count": 11,
   "metadata": {
    "cocalc": {
     "outputs": {
      "0": {
       "name": "input",
       "opts": {
        "password": false,
        "prompt": "Novo"
       },
       "output_type": "stream",
       "value": "10"
      }
     }
    },
    "collapsed": false
   },
   "outputs": [
    {
     "name": "stdout",
     "output_type": "stream",
     "text": "Novo 10"
    }
   ],
   "source": [
    "novo=int(input(\"Novo\"))\n",
    "acum = acum + novo\n",
    "cont = cont + 1"
   ]
  },
  {
   "cell_type": "code",
   "execution_count": 13,
   "metadata": {
    "collapsed": false
   },
   "outputs": [
    {
     "name": "stdout",
     "output_type": "stream",
     "text": [
      "15\n",
      "2\n"
     ]
    }
   ],
   "source": [
    "print(acum)\n",
    "print(cont)"
   ]
  },
  {
   "cell_type": "code",
   "execution_count": 20,
   "metadata": {
    "cocalc": {
     "outputs": {
      "0": {
       "name": "input",
       "opts": {
        "password": false,
        "prompt": "Informe Idade: "
       },
       "output_type": "stream",
       "value": "10"
      },
      "1": {
       "name": "input",
       "opts": {
        "password": false,
        "prompt": "Informe Idade: "
       },
       "output_type": "stream",
       "value": "10"
      },
      "2": {
       "name": "input",
       "opts": {
        "password": false,
        "prompt": "Informe Idade: "
       },
       "output_type": "stream",
       "value": "10"
      },
      "3": {
       "name": "input",
       "opts": {
        "password": false,
        "prompt": "Informe Idade: "
       },
       "output_type": "stream",
       "value": "999"
      },
      "4": {
       "name": "input",
       "opts": {
        "password": false,
        "prompt": "Informe Idade: "
       },
       "output_type": "stream",
       "value": "2"
      },
      "5": {
       "name": "input",
       "opts": {
        "password": false,
        "prompt": "Informe Idade: "
       },
       "output_type": "stream",
       "value": "3"
      },
      "6": {
       "name": "input",
       "opts": {
        "password": false,
        "prompt": "Informe Idade: "
       },
       "output_type": "stream",
       "value": "999"
      },
      "7": {
       "name": "input",
       "opts": {
        "password": false,
        "prompt": "Informe Idade: "
       },
       "output_type": "stream",
       "value": "999"
      }
     }
    },
    "collapsed": false
   },
   "outputs": [
    {
     "name": "stdout",
     "output_type": "stream",
     "text": "Informe Idade:  10"
    },
    {
     "name": "stdout",
     "output_type": "stream",
     "text": "Informe Idade:  10"
    },
    {
     "name": "stdout",
     "output_type": "stream",
     "text": "Informe Idade:  10"
    },
    {
     "name": "stdout",
     "output_type": "stream",
     "text": "Informe Idade:  999"
    },
    {
     "name": "stdout",
     "output_type": "stream",
     "text": [
      "media de idade: 10.0\n"
     ]
    }
   ],
   "source": [
    "acum_idade = 0\n",
    "cont_idade = 0\n",
    "media = 0.0\n",
    "flag=999\n",
    "idade=int(input(\"Informe Idade: \"))\n",
    "while (idade != flag):\n",
    "    acum_idade = acum_idade + idade\n",
    "    cont_idade = cont_idade + 1\n",
    "    idade=int(input(\"Informe Idade: \"))    \n",
    "# fim while\n",
    "media = acum_idade/cont_idade\n",
    "print(\"media de idade:\", media)\n",
    "    "
   ]
  },
  {
   "cell_type": "markdown",
   "metadata": {
    "collapsed": false
   },
   "source": [
    "##### Link do programa da média indeterminada no pythontutor:\n",
    "\n"
   ]
  },
  {
   "cell_type": "markdown",
   "metadata": {
    "collapsed": false
   },
   "source": [
    "http://www.pythontutor.com/live.html#code=acum_idade%20%3D%200%0Acont_idade%20%3D%200%0Amedia%20%3D%200%20%0Aflag%3D999%0Aidade%3Dint%28input%28%22Informe%20Idade%3A%20%22%29%29%0Awhile%20%28idade%20!%3D%20flag%29%3A%0A%20%20%20%20acum_idade%20%3D%20acum_idade%20%2B%20idade%0A%20%20%20%20cont_idade%20%3D%20cont_idade%20%2B%201%0A%20%20%20%20idade%3Dint%28input%28%22Informe%20Idade%3A%20%22%29%29%0A%23fim%20while%0Amedia%20%3D%20acum_idade/cont_idade%0Aprint%28%22media%20de%20idade%3A%22,%20media%29%0A%20%20%20%20&cumulative=false&curInstr=28&heapPrimitives=nevernest&mode=display&origin=opt-live.js&py=3&rawInputLstJSON=%5B%225%22,%228%22,%227%22,%223%22,%226%22,%22999%22%5D&textReferences=false"
   ]
  },
  {
   "cell_type": "code",
   "execution_count": 9,
   "metadata": {
    "collapsed": false
   },
   "outputs": [
    {
     "name": "stdout",
     "output_type": "stream",
     "text": [
      "6\n",
      "7\n",
      "8\n",
      "3\n",
      "4\n",
      "9\n",
      "12\n",
      "8\n",
      "9\n",
      "media de idade: 7.333333333333333\n"
     ]
    }
   ],
   "source": [
    "acum_idade = 0\n",
    "cont_idade = 15\n",
    "media = 0 \n",
    "list_idade=[6,7,8,3,4,9,12,8,9]\n",
    "for idade in  list_idade:\n",
    "    acum_idade = acum_idade+idade\n",
    "    print(idade)\n",
    "#fim for\n",
    "media = acum_idade/len(list_idade)\n",
    "print(\"media de idade:\", media)"
   ]
  },
  {
   "cell_type": "code",
   "execution_count": 8,
   "metadata": {
    "collapsed": false
   },
   "outputs": [
    {
     "data": {
      "text/plain": [
       "9"
      ]
     },
     "execution_count": 8,
     "metadata": {
     },
     "output_type": "execute_result"
    }
   ],
   "source": [
    "len(list_idade)"
   ]
  },
  {
   "cell_type": "code",
   "execution_count": 0,
   "metadata": {
    "collapsed": false
   },
   "outputs": [
   ],
   "source": [
   ]
  }
 ],
 "metadata": {
  "kernelspec": {
   "display_name": "Python 3 (system-wide)",
   "env": {
   },
   "language": "python",
   "metadata": {
    "cocalc": {
     "description": "Python 3 programming language",
     "priority": 100,
     "url": "https://www.python.org/"
    }
   },
   "name": "python3",
   "resource_dir": "/ext/jupyter/kernels/python3"
  },
  "language_info": {
   "codemirror_mode": {
    "name": "ipython",
    "version": 3
   },
   "file_extension": ".py",
   "mimetype": "text/x-python",
   "name": "python",
   "nbconvert_exporter": "python",
   "pygments_lexer": "ipython3",
   "version": "3.6.9"
  }
 },
 "nbformat": 4,
 "nbformat_minor": 4
}